{
 "cells": [
  {
   "cell_type": "markdown",
   "id": "0befdfc6-b73a-4bc7-bbed-9897a798382d",
   "metadata": {},
   "source": [
    "# Hello, PyTorch! -- MNIST Handwritten Digits\n",
    "\n",
    "- https://en.wikipedia.org/wiki/MNIST_database"
   ]
  },
  {
   "cell_type": "markdown",
   "id": "40e7b4e1-b6f5-4e80-b84f-adf5c540a7fe",
   "metadata": {},
   "source": [
    "# Load Datasets"
   ]
  },
  {
   "cell_type": "code",
   "execution_count": 2,
   "id": "37f401f9-93ba-4b81-bde0-c36ab930ce9f",
   "metadata": {},
   "outputs": [],
   "source": [
    "import torch\n",
    "from torchvision import datasets, transforms"
   ]
  },
  {
   "cell_type": "code",
   "execution_count": 3,
   "id": "357e30e1-addf-4926-8946-60ca064dd378",
   "metadata": {},
   "outputs": [
    {
     "data": {
      "text/plain": [
       "(<PIL.Image.Image image mode=L size=28x28>, 5)"
      ]
     },
     "execution_count": 3,
     "metadata": {},
     "output_type": "execute_result"
    }
   ],
   "source": [
    "x = datasets.MNIST('data', download = True)\n",
    "x[0]"
   ]
  },
  {
   "cell_type": "code",
   "execution_count": 4,
   "id": "9710263e-acae-45a2-a63b-e9b45594bd49",
   "metadata": {},
   "outputs": [
    {
     "data": {
      "image/jpeg": "[encoded data removed]",
      "image/png": "[encoded data removed]",
      "text/plain": [
       "<PIL.Image.Image image mode=L size=28x28>"
      ]
     },
     "execution_count": 4,
     "metadata": {},
     "output_type": "execute_result"
    }
   ],
   "source": [
    "x[0][0]"
   ]
  },
  {
   "cell_type": "code",
   "execution_count": 5,
   "id": "480b4ed9-53a2-497f-a091-34d2b5029efc",
   "metadata": {},
   "outputs": [],
   "source": [
    "transform=transforms.Compose([\n",
    "    transforms.ToTensor(),  #Changes an image or array into a PyTorch tensor and scales the pixel values to be between 0 and 1\n",
    "    transforms.Normalize((0.1307,), (0.3081,)) #Normalizes the tensor by subtracting by a mean and dividing by a standard deviation\n",
    "    ])"
   ]
  },
  {
   "cell_type": "code",
   "execution_count": 6,
   "id": "e0e7703b-bafa-4cbd-ab76-e7912f238a71",
   "metadata": {},
   "outputs": [],
   "source": [
    "#Access the predefined PyTorch dataset of handwritten digits\n",
    "#There are 60,000 images in this training set\n",
    "dataset1 = datasets.MNIST('data', train=True, download=True, transform=transform)\n",
    "\n",
    "#Specify the batch size \n",
    "train_loader = torch.utils.data.DataLoader(dataset1, batch_size=64) \n",
    "\n",
    "#Load the test set of 10,000 images \n",
    "dataset2 = datasets.MNIST('data', train=False, download=True, transform=transform)\n",
    "test_loader = torch.utils.data.DataLoader(dataset2, batch_size=1000)"
   ]
  },
  {
   "cell_type": "code",
   "execution_count": 7,
   "id": "59710e75-9a82-4e8a-b69a-41476ee2d695",
   "metadata": {},
   "outputs": [
    {
     "data": {
      "text/plain": [
       "torch.Size([64, 1, 28, 28])"
      ]
     },
     "execution_count": 7,
     "metadata": {},
     "output_type": "execute_result"
    }
   ],
   "source": [
    "#Retrieve the first batch of data, will return an index (i) and batch data (x)\n",
    "i, x = next(enumerate(train_loader))\n",
    "x[0].shape"
   ]
  },
  {
   "cell_type": "markdown",
   "id": "a56db5ce-0865-4bfe-889c-3ddb048c8f0f",
   "metadata": {},
   "source": [
    "# View Image"
   ]
  },
  {
   "cell_type": "code",
   "execution_count": 21,
   "id": "816b99ae-9a93-41b9-bbdb-fb29315882a2",
   "metadata": {},
   "outputs": [],
   "source": [
    "import numpy as np\n",
    "import scipy\n",
    "import matplotlib.pyplot as plt"
   ]
  },
  {
   "cell_type": "code",
   "execution_count": 9,
   "id": "f6fac72d-8f4c-4b8e-b0a2-f0b3f5fde55a",
   "metadata": {},
   "outputs": [
    {
     "data": {
      "text/plain": [
       "<matplotlib.image.AxesImage at 0x307ab4ec0>"
      ]
     },
     "execution_count": 9,
     "metadata": {},
     "output_type": "execute_result"
    },
    {
     "data": {
      "image/png": "[encoded data removed]",
      "text/plain": [
       "<Figure size 640x480 with 1 Axes>"
      ]
     },
     "metadata": {},
     "output_type": "display_data"
    }
   ],
   "source": [
    "#Retrieve the first batch\n",
    "i, x = next(enumerate(train_loader))\n",
    "\n",
    "#Select the first image in the batch and remove singleton dimensions \n",
    "x2 = np.squeeze(x[0][0])\n",
    "\n",
    "#Display the image stored in x2\n",
    "plt.imshow(x2, cmap='gray')"
   ]
  },
  {
   "cell_type": "code",
   "execution_count": 10,
   "id": "913ac94e-1e4c-4b47-ba22-02c89c34cf3f",
   "metadata": {},
   "outputs": [
    {
     "data": {
      "text/plain": [
       "<matplotlib.image.AxesImage at 0x309216210>"
      ]
     },
     "execution_count": 10,
     "metadata": {},
     "output_type": "execute_result"
    },
    {
     "data": {
      "image/png": "[encoded data removed]",
      "text/plain": [
       "<Figure size 640x480 with 3 Axes>"
      ]
     },
     "metadata": {},
     "output_type": "display_data"
    }
   ],
   "source": [
    "#Define a Sobel kernel for horizontal edge detection\n",
    "kernel = np.array([[1, 0, -1], [2, 0, -2], [1, 0, -1]])\n",
    "\n",
    "#Apply the kernel to the image using convolution\n",
    "# y will be the image with highlighted edges \n",
    "y = scipy.ndimage.convolve(x2, kernel)\n",
    "\n",
    "#Display three images side by side (original, kernel/edge detection filter, output of convolution)\n",
    "fig, axes = plt.subplots(1,3)\n",
    "axes[0].imshow(x2)\n",
    "axes[1].imshow(kernel)\n",
    "axes[2].imshow(y)"
   ]
  },
  {
   "cell_type": "markdown",
   "id": "b2a9a9b8-5987-4e58-9ca6-97baeab779ae",
   "metadata": {},
   "source": [
    "# Create Network"
   ]
  },
  {
   "cell_type": "code",
   "execution_count": 22,
   "id": "29ceed62-51fb-46d4-a1e6-e09070a2e1d3",
   "metadata": {},
   "outputs": [],
   "source": [
    "import torch.nn as nn\n",
    "import torch.nn.functional as F\n",
    "import torch.optim as optim\n",
    "from torchinfo import summary"
   ]
  },
  {
   "cell_type": "code",
   "execution_count": 12,
   "id": "824bebde-c13f-4182-83fc-812306876c30",
   "metadata": {},
   "outputs": [],
   "source": [
    "#Define a convolutional neural network called Net\n",
    "class Net(nn.Module):\n",
    "    def __init__(self):\n",
    "        super(Net, self).__init__()\n",
    "        #define first convolutional layer, take 1 channel image and output 10 feature maps\n",
    "        #kernel size is 5 x 5 region\n",
    "        self.conv1 = nn.Conv2d(1, 10, kernel_size=5)\n",
    "        #define second convolutional layer, take 1 channel image and output 20 feature maps\n",
    "        #kernel size is 5 x 5 region\n",
    "        self.conv2 = nn.Conv2d(10, 20, kernel_size=5)\n",
    "        #randomly set some values to 0 to prevent overfitting\n",
    "        self.conv2_drop = nn.Dropout2d()\n",
    "        #take flattened output of previous layers and map to 50 neurons\n",
    "        self.fc1 = nn.Linear(320, 50)\n",
    "        #take 50 outputs from the previous layer and map to 10 output neurons (digits 0 to 9)\n",
    "        self.fc2 = nn.Linear(50, 10)\n",
    "\n",
    "    #This is a bit more complex and confusing\n",
    "    def forward(self, x):\n",
    "        x = F.relu(F.max_pool2d(self.conv1(x), 2))\n",
    "        x = F.relu(F.max_pool2d(self.conv2_drop(self.conv2(x)), 2))\n",
    "        x = x.view(-1, 320)\n",
    "        x = F.relu(self.fc1(x))\n",
    "        x = F.dropout(x, training=self.training)\n",
    "        x = self.fc2(x)\n",
    "        return F.log_softmax(x)"
   ]
  },
  {
   "cell_type": "code",
   "execution_count": 23,
   "id": "fc192ed1-478c-4f49-afea-7ab978c93961",
   "metadata": {},
   "outputs": [
    {
     "name": "stderr",
     "output_type": "stream",
     "text": [
      "/var/folders/m9/f9b1skd55v35_qp4hcflk2qh0000gp/T/ipykernel_22225/161431047.py:17: UserWarning: Implicit dimension choice for log_softmax has been deprecated. Change the call to include dim=X as an argument.\n",
      "  return F.log_softmax(x)\n"
     ]
    },
    {
     "data": {
      "text/plain": [
       "==========================================================================================\n",
       "Layer (type:depth-idx)                   Output Shape              Param #\n",
       "==========================================================================================\n",
       "Net                                      [1, 10]                   --\n",
       "├─Conv2d: 1-1                            [10, 24, 24]              260\n",
       "├─Conv2d: 1-2                            [20, 8, 8]                5,020\n",
       "├─Dropout2d: 1-3                         [20, 8, 8]                --\n",
       "├─Linear: 1-4                            [1, 50]                   16,050\n",
       "├─Linear: 1-5                            [1, 10]                   510\n",
       "==========================================================================================\n",
       "Total params: 21,840\n",
       "Trainable params: 21,840\n",
       "Non-trainable params: 0\n",
       "Total mult-adds (Units.MEGABYTES): 0.88\n",
       "==========================================================================================\n",
       "Input size (MB): 0.00\n",
       "Forward/backward pass size (MB): 0.06\n",
       "Params size (MB): 0.09\n",
       "Estimated Total Size (MB): 0.15\n",
       "=========================================================================================="
      ]
     },
     "execution_count": 23,
     "metadata": {},
     "output_type": "execute_result"
    }
   ],
   "source": [
    "network = Net()\n",
    "#Create an optimizer for training the network\n",
    "#Learning rate is 0.01, take small steps to update weights\n",
    "optimizer = optim.SGD(network.parameters(), lr=0.01, momentum=0.5)\n",
    "summary(network, input_size=(1,28,28))"
   ]
  },
  {
   "cell_type": "markdown",
   "id": "3d0a78c4-3dbd-450d-b433-2702d56a6b25",
   "metadata": {},
   "source": [
    "# Visualize Weights"
   ]
  },
  {
   "cell_type": "code",
   "execution_count": 24,
   "id": "44ce2ccf-b96a-4562-88dd-a36abe6e78c1",
   "metadata": {},
   "outputs": [],
   "source": [
    "#Display the 10 filters of the first convolutional layer and the result of applying the filters to the image\n",
    "def visualize():\n",
    "    i, x = next(enumerate(test_loader))\n",
    "    x2 = np.squeeze(x[0][0])\n",
    "    weights = network.conv1.weight.data\n",
    "    \n",
    "    fig, axes = plt.subplots(10,2)\n",
    "    for i in range(10):\n",
    "        weights_np = np.squeeze(weights.numpy()[i,0,:,:])\n",
    "        axes[i,0].imshow(weights_np)\n",
    "        axes[i,1].imshow(scipy.ndimage.convolve(x2, weights_np))"
   ]
  },
  {
   "cell_type": "code",
   "execution_count": 15,
   "id": "a2a7d4bf-c289-4ce9-bae6-b5e9e027dab8",
   "metadata": {},
   "outputs": [
    {
     "data": {
      "image/png": "[encoded data removed]",
      "text/plain": [
       "<Figure size 640x480 with 20 Axes>"
      ]
     },
     "metadata": {},
     "output_type": "display_data"
    }
   ],
   "source": [
    "visualize()"
   ]
  },
  {
   "cell_type": "markdown",
   "id": "00e8d17d-9790-48fb-ab28-8553362cb2cc",
   "metadata": {},
   "source": [
    "# Predict Using Network"
   ]
  },
  {
   "cell_type": "code",
   "execution_count": 25,
   "id": "7a71b539-af89-4b00-abd5-81355c5056b8",
   "metadata": {},
   "outputs": [
    {
     "data": {
      "text/plain": [
       "tensor([5, 0, 4, 1, 9])"
      ]
     },
     "execution_count": 25,
     "metadata": {},
     "output_type": "execute_result"
    }
   ],
   "source": [
    "#Return the labels for the first five images of the current batch\n",
    "i, x = next(enumerate(train_loader))\n",
    "x[1][:5]"
   ]
  },
  {
   "cell_type": "code",
   "execution_count": 17,
   "id": "19099acc-17ad-4fed-a8c5-94dd5f23ed48",
   "metadata": {},
   "outputs": [
    {
     "name": "stderr",
     "output_type": "stream",
     "text": [
      "/var/folders/m9/f9b1skd55v35_qp4hcflk2qh0000gp/T/ipykernel_22225/161431047.py:17: UserWarning: Implicit dimension choice for log_softmax has been deprecated. Change the call to include dim=X as an argument.\n",
      "  return F.log_softmax(x)\n"
     ]
    },
    {
     "data": {
      "text/plain": [
       "tensor([3, 9, 3, 3, 4])"
      ]
     },
     "execution_count": 17,
     "metadata": {},
     "output_type": "execute_result"
    }
   ],
   "source": [
    "#Returns the predictions for the first five images of the current batch\n",
    "y = network(x[0])\n",
    "pred = y.data.max(1)[1]\n",
    "pred[:5]"
   ]
  },
  {
   "cell_type": "markdown",
   "id": "d20a976a-42a9-42ae-95d7-bd764a946b19",
   "metadata": {},
   "source": [
    "# First Test and Train"
   ]
  },
  {
   "cell_type": "code",
   "execution_count": 27,
   "id": "2605c912-1329-48e8-8d36-82d83738f58b",
   "metadata": {},
   "outputs": [],
   "source": [
    "#Calculate the accuracy of the network\n",
    "def test():\n",
    "  network.eval()\n",
    "  correct = 0\n",
    "  with torch.no_grad():\n",
    "    for data, target in test_loader:\n",
    "      output = network(data)\n",
    "      pred = output.data.max(1, keepdim=True)[1]\n",
    "      correct += pred.eq(target.data.view_as(pred)).sum()\n",
    "  print('Test accuracy: {:.0f}%\\n'.format(100. * correct / len(test_loader.dataset)))"
   ]
  },
  {
   "cell_type": "code",
   "execution_count": 28,
   "id": "044b36f9-bfce-4cdf-b024-ce80f568470a",
   "metadata": {},
   "outputs": [
    {
     "name": "stderr",
     "output_type": "stream",
     "text": [
      "/var/folders/m9/f9b1skd55v35_qp4hcflk2qh0000gp/T/ipykernel_22225/161431047.py:17: UserWarning: Implicit dimension choice for log_softmax has been deprecated. Change the call to include dim=X as an argument.\n",
      "  return F.log_softmax(x)\n"
     ]
    },
    {
     "name": "stdout",
     "output_type": "stream",
     "text": [
      "Test accuracy: 13%\n",
      "\n"
     ]
    }
   ],
   "source": [
    "test()"
   ]
  },
  {
   "cell_type": "code",
   "execution_count": 20,
   "id": "5790a2f7-1a11-43d6-83ba-39392dc2747d",
   "metadata": {},
   "outputs": [],
   "source": [
    "#Train the neural network on the training set\n",
    "#and continuously compute the loss and update the model to minimize loss \n",
    "optimizer = optim.SGD(network.parameters(), lr=0.01, momentum=0.5)\n",
    "def train():\n",
    "  network.train()\n",
    "  for batch_idx, (data, target) in enumerate(train_loader):\n",
    "    optimizer.zero_grad()\n",
    "    output = network(data)\n",
    "    loss = F.nll_loss(output, target)\n",
    "    loss.backward()\n",
    "    optimizer.step()\n",
    "    if batch_idx % 100 == 0:\n",
    "      print('Train loss: {:.6f}'.format(loss.item()))"
   ]
  },
  {
   "cell_type": "code",
   "execution_count": 29,
   "id": "d9d2ca7c-d974-4d7b-a25e-09882ff442b7",
   "metadata": {},
   "outputs": [
    {
     "name": "stderr",
     "output_type": "stream",
     "text": [
      "/var/folders/m9/f9b1skd55v35_qp4hcflk2qh0000gp/T/ipykernel_22225/161431047.py:17: UserWarning: Implicit dimension choice for log_softmax has been deprecated. Change the call to include dim=X as an argument.\n",
      "  return F.log_softmax(x)\n"
     ]
    },
    {
     "name": "stdout",
     "output_type": "stream",
     "text": [
      "Train loss: 2.316056\n",
      "Train loss: 1.887413\n",
      "Train loss: 0.920161\n",
      "Train loss: 1.001261\n",
      "Train loss: 0.753420\n",
      "Train loss: 0.543244\n",
      "Train loss: 0.530782\n",
      "Train loss: 0.702304\n",
      "Train loss: 0.516423\n",
      "Train loss: 0.622314\n"
     ]
    }
   ],
   "source": [
    "train()"
   ]
  },
  {
   "cell_type": "markdown",
   "id": "c61319bd-8132-4325-8619-6bc176bb8b74",
   "metadata": {},
   "source": [
    "# Train Network"
   ]
  },
  {
   "cell_type": "code",
   "execution_count": 24,
   "id": "3188e884-4e5c-49cc-88d2-75b89724c57c",
   "metadata": {},
   "outputs": [
    {
     "name": "stderr",
     "output_type": "stream",
     "text": [
      "/var/folders/m9/f9b1skd55v35_qp4hcflk2qh0000gp/T/ipykernel_6776/161431047.py:17: UserWarning: Implicit dimension choice for log_softmax has been deprecated. Change the call to include dim=X as an argument.\n",
      "  return F.log_softmax(x)\n"
     ]
    },
    {
     "name": "stdout",
     "output_type": "stream",
     "text": [
      "Train loss: 2.328357\n",
      "Train loss: 2.202135\n",
      "Train loss: 1.352435\n",
      "Train loss: 0.801246\n",
      "Train loss: 0.513766\n",
      "Train loss: 0.680657\n",
      "Train loss: 0.526784\n",
      "Train loss: 0.583293\n",
      "Train loss: 0.627161\n",
      "Train loss: 0.466526\n",
      "Test accuracy: 94%\n",
      "\n",
      "Train loss: 0.470476\n",
      "Train loss: 0.257642\n",
      "Train loss: 0.308270\n",
      "Train loss: 0.477088\n",
      "Train loss: 0.455900\n",
      "Train loss: 0.407844\n",
      "Train loss: 0.322788\n",
      "Train loss: 0.416832\n",
      "Train loss: 0.350391\n",
      "Train loss: 0.307870\n",
      "Test accuracy: 96%\n",
      "\n",
      "Train loss: 0.225584\n",
      "Train loss: 0.264213\n",
      "Train loss: 0.353725\n",
      "Train loss: 0.415473\n",
      "Train loss: 0.181282\n",
      "Train loss: 0.445911\n",
      "Train loss: 0.160532\n",
      "Train loss: 0.344255\n",
      "Train loss: 0.538999\n",
      "Train loss: 0.239903\n",
      "Test accuracy: 97%\n",
      "\n",
      "Train loss: 0.184747\n",
      "Train loss: 0.218457\n",
      "Train loss: 0.166741\n",
      "Train loss: 0.355436\n",
      "Train loss: 0.075430\n",
      "Train loss: 0.208353\n",
      "Train loss: 0.133621\n",
      "Train loss: 0.363893\n",
      "Train loss: 0.236777\n",
      "Train loss: 0.241382\n",
      "Test accuracy: 97%\n",
      "\n",
      "Train loss: 0.190274\n",
      "Train loss: 0.157133\n",
      "Train loss: 0.253864\n",
      "Train loss: 0.293739\n",
      "Train loss: 0.178465\n",
      "Train loss: 0.298785\n",
      "Train loss: 0.177648\n",
      "Train loss: 0.209415\n",
      "Train loss: 0.294661\n",
      "Train loss: 0.206276\n",
      "Test accuracy: 98%\n",
      "\n"
     ]
    }
   ],
   "source": [
    "network = Net()\n",
    "optimizer = optim.SGD(network.parameters(), lr=0.01, momentum=0.5)\n",
    "for epoch in range(5):\n",
    "    train()\n",
    "    test()"
   ]
  },
  {
   "cell_type": "markdown",
   "id": "99586011-99ab-400d-8192-610c329918ae",
   "metadata": {},
   "source": [
    "# Inspect Network"
   ]
  },
  {
   "cell_type": "code",
   "execution_count": 30,
   "id": "dc3e0d30-d98d-4928-aaba-ea3aec986ff3",
   "metadata": {},
   "outputs": [
    {
     "data": {
      "image/png": "[encoded data removed]",
      "text/plain": [
       "<Figure size 640x480 with 20 Axes>"
      ]
     },
     "metadata": {},
     "output_type": "display_data"
    }
   ],
   "source": [
    "visualize()"
   ]
  },
  {
   "cell_type": "code",
   "execution_count": 31,
   "id": "d7a26236-3bda-428f-a95d-46d080acf90b",
   "metadata": {},
   "outputs": [
    {
     "data": {
      "text/plain": [
       "tensor([5, 0, 4, 1, 9])"
      ]
     },
     "execution_count": 31,
     "metadata": {},
     "output_type": "execute_result"
    }
   ],
   "source": [
    "i, x = next(enumerate(train_loader))\n",
    "x[1][:5]"
   ]
  },
  {
   "cell_type": "code",
   "execution_count": 32,
   "id": "cc9cbf03-b8a7-4217-88b2-d43b1ea8639e",
   "metadata": {},
   "outputs": [
    {
     "name": "stderr",
     "output_type": "stream",
     "text": [
      "/var/folders/m9/f9b1skd55v35_qp4hcflk2qh0000gp/T/ipykernel_22225/161431047.py:17: UserWarning: Implicit dimension choice for log_softmax has been deprecated. Change the call to include dim=X as an argument.\n",
      "  return F.log_softmax(x)\n"
     ]
    },
    {
     "data": {
      "text/plain": [
       "tensor([3, 0, 4, 1, 9])"
      ]
     },
     "execution_count": 32,
     "metadata": {},
     "output_type": "execute_result"
    }
   ],
   "source": [
    "y = network(x[0])\n",
    "pred = y.data.max(1)[1]\n",
    "pred[:5]"
   ]
  },
  {
   "cell_type": "markdown",
   "id": "91ccf0af-45b9-44f5-82bb-8b2428a9fb35",
   "metadata": {},
   "source": [
    "# How Much Data?\n",
    "\n",
    "- What is the accuracy using 60,000 images? 30,000? 6,000? 3,000? 600?\n",
    "- How do the weights looks different when trained with 60,000 vs 600?"
   ]
  },
  {
   "cell_type": "code",
   "execution_count": 42,
   "id": "b0fc9e1b-2338-41fa-a471-1c5860de70f5",
   "metadata": {},
   "outputs": [],
   "source": [
    "dataset1 = datasets.MNIST('data', train=True, download=True, transform=transform)\n",
    "dataset1 = torch.utils.data.Subset(dataset1, range(60000))\n",
    "train_loader = torch.utils.data.DataLoader(dataset1, batch_size=64)"
   ]
  },
  {
   "cell_type": "code",
   "execution_count": 43,
   "id": "1bceb5af-336f-491b-9e69-ebc7a0b3ac99",
   "metadata": {},
   "outputs": [
    {
     "name": "stderr",
     "output_type": "stream",
     "text": [
      "/var/folders/m9/f9b1skd55v35_qp4hcflk2qh0000gp/T/ipykernel_22225/161431047.py:17: UserWarning: Implicit dimension choice for log_softmax has been deprecated. Change the call to include dim=X as an argument.\n",
      "  return F.log_softmax(x)\n"
     ]
    },
    {
     "name": "stdout",
     "output_type": "stream",
     "text": [
      "Train loss: 2.334838\n",
      "Train loss: 1.933855\n",
      "Train loss: 1.019908\n",
      "Train loss: 0.890829\n",
      "Train loss: 0.712389\n",
      "Train loss: 0.589290\n",
      "Train loss: 0.463852\n",
      "Train loss: 0.651708\n",
      "Train loss: 0.427723\n",
      "Train loss: 0.581312\n",
      "Test accuracy: 94%\n",
      "\n",
      "Train loss: 0.376237\n",
      "Train loss: 0.341307\n",
      "Train loss: 0.336676\n",
      "Train loss: 0.412215\n",
      "Train loss: 0.435884\n",
      "Train loss: 0.439174\n",
      "Train loss: 0.415948\n",
      "Train loss: 0.310436\n",
      "Train loss: 0.472559\n",
      "Train loss: 0.314046\n",
      "Test accuracy: 96%\n",
      "\n",
      "Train loss: 0.276878\n",
      "Train loss: 0.215509\n",
      "Train loss: 0.235999\n",
      "Train loss: 0.570142\n",
      "Train loss: 0.257249\n",
      "Train loss: 0.235601\n",
      "Train loss: 0.262892\n",
      "Train loss: 0.435340\n",
      "Train loss: 0.424933\n",
      "Train loss: 0.277642\n",
      "Test accuracy: 97%\n",
      "\n",
      "Train loss: 0.212974\n",
      "Train loss: 0.100228\n",
      "Train loss: 0.189605\n",
      "Train loss: 0.219883\n",
      "Train loss: 0.192566\n",
      "Train loss: 0.261831\n",
      "Train loss: 0.209001\n",
      "Train loss: 0.345608\n",
      "Train loss: 0.477754\n",
      "Train loss: 0.221944\n",
      "Test accuracy: 98%\n",
      "\n",
      "Train loss: 0.106233\n",
      "Train loss: 0.232880\n",
      "Train loss: 0.146040\n",
      "Train loss: 0.230064\n",
      "Train loss: 0.153543\n",
      "Train loss: 0.330994\n",
      "Train loss: 0.166859\n",
      "Train loss: 0.276233\n",
      "Train loss: 0.458700\n",
      "Train loss: 0.331944\n",
      "Test accuracy: 98%\n",
      "\n"
     ]
    }
   ],
   "source": [
    "# Create a new network and optimizer each time you try a new training set\n",
    "network = Net()\n",
    "optimizer = optim.SGD(network.parameters(), lr=0.01, momentum=0.5)\n",
    "for epoch in range(5):\n",
    "    train()\n",
    "    test()"
   ]
  },
  {
   "cell_type": "code",
   "execution_count": 44,
   "id": "8d03594c-4570-43d2-a282-6be8e9e0432b",
   "metadata": {},
   "outputs": [
    {
     "data": {
      "image/png": "[encoded data removed]",
      "text/plain": [
       "<Figure size 640x480 with 20 Axes>"
      ]
     },
     "metadata": {},
     "output_type": "display_data"
    }
   ],
   "source": [
    "visualize()"
   ]
  },
  {
   "cell_type": "code",
   "execution_count": null,
   "id": "460f7426-228c-4657-8bb5-074dda214157",
   "metadata": {},
   "outputs": [],
   "source": [
    "#30000 images\n",
    "dataset1 = datasets.MNIST('data', train=True, download=True, transform=transform)\n",
    "dataset1 = torch.utils.data.Subset(dataset1, range(30000))\n",
    "train_loader = torch.utils.data.DataLoader(dataset1, batch_size=64)"
   ]
  },
  {
   "cell_type": "code",
   "execution_count": null,
   "id": "97cdf836-b6fd-4a6a-b0da-81d9dcead911",
   "metadata": {},
   "outputs": [],
   "source": [
    "# Create a new network and optimizer each time you try a new training set\n",
    "network = Net()\n",
    "optimizer = optim.SGD(network.parameters(), lr=0.01, momentum=0.5)\n",
    "for epoch in range(5):\n",
    "    train()\n",
    "    test()"
   ]
  },
  {
   "cell_type": "code",
   "execution_count": null,
   "id": "ebf346bb-e504-4148-8d87-0a01d90e3ef0",
   "metadata": {},
   "outputs": [],
   "source": [
    "#6000 images\n",
    "dataset1 = datasets.MNIST('data', train=True, download=True, transform=transform)\n",
    "dataset1 = torch.utils.data.Subset(dataset1, range(6000))\n",
    "train_loader = torch.utils.data.DataLoader(dataset1, batch_size=64)"
   ]
  },
  {
   "cell_type": "code",
   "execution_count": null,
   "id": "fcb29ce9-e75d-4caa-a358-29b2ed21fe6b",
   "metadata": {},
   "outputs": [],
   "source": [
    "# Create a new network and optimizer each time you try a new training set\n",
    "network = Net()\n",
    "optimizer = optim.SGD(network.parameters(), lr=0.01, momentum=0.5)\n",
    "for epoch in range(5):\n",
    "    train()\n",
    "    test()"
   ]
  },
  {
   "cell_type": "code",
   "execution_count": null,
   "id": "a8b91570-a58f-4143-8fc4-ab6edf20ff0c",
   "metadata": {},
   "outputs": [],
   "source": [
    "#3000 images\n",
    "dataset1 = datasets.MNIST('data', train=True, download=True, transform=transform)\n",
    "dataset1 = torch.utils.data.Subset(dataset1, range(3000))\n",
    "train_loader = torch.utils.data.DataLoader(dataset1, batch_size=64)"
   ]
  },
  {
   "cell_type": "code",
   "execution_count": null,
   "id": "b13a04f0-3a7e-4065-b8a3-ea738caa12f3",
   "metadata": {},
   "outputs": [],
   "source": [
    "# Create a new network and optimizer each time you try a new training set\n",
    "network = Net()\n",
    "optimizer = optim.SGD(network.parameters(), lr=0.01, momentum=0.5)\n",
    "for epoch in range(5):\n",
    "    train()\n",
    "    test()"
   ]
  },
  {
   "cell_type": "code",
   "execution_count": null,
   "id": "1d73b132-2b3f-4d38-8578-3f4de17fc8bb",
   "metadata": {},
   "outputs": [],
   "source": [
    "#600 images\n",
    "dataset1 = datasets.MNIST('data', train=True, download=True, transform=transform)\n",
    "dataset1 = torch.utils.data.Subset(dataset1, range(600))\n",
    "train_loader = torch.utils.data.DataLoader(dataset1, batch_size=64)"
   ]
  },
  {
   "cell_type": "code",
   "execution_count": null,
   "id": "3864a98b-fe33-4305-8a16-bd51e8d894ba",
   "metadata": {},
   "outputs": [],
   "source": [
    "# Create a new network and optimizer each time you try a new training set\n",
    "network = Net()\n",
    "optimizer = optim.SGD(network.parameters(), lr=0.01, momentum=0.5)\n",
    "for epoch in range(5):\n",
    "    train()\n",
    "    test()"
   ]
  },
  {
   "cell_type": "code",
   "execution_count": null,
   "id": "edb61421-8f6a-48f1-a8df-8c50e4aea598",
   "metadata": {},
   "outputs": [],
   "source": [
    "#600 images\n",
    "visualize()"
   ]
  },
  {
   "cell_type": "code",
   "execution_count": null,
   "id": "3d6013b7-93fa-45fb-b095-3f370b8bdf76",
   "metadata": {},
   "outputs": [],
   "source": [
    "#Question 1a.\n",
    "#With 60,000 images, the accuracy is 98%\n",
    "#With 30,000 images, the accuracy is 97%\n",
    "#With 6,000 images, the accuracy is 92%\n",
    "#With 3,000 images, the accuracy is 85%\n",
    "#With 600 images, the accuracy is 36%\n"
   ]
  },
  {
   "cell_type": "code",
   "execution_count": null,
   "id": "d101cd20-a009-4c8b-a83c-6736599d199e",
   "metadata": {},
   "outputs": [],
   "source": [
    "#Question 1b.\n",
    "#The heatmaps for the kernels look more ordered in the 60,000 image set, like there is a more defined pattern"
   ]
  }
 ],
 "metadata": {
  "kernelspec": {
   "display_name": "Python 3 (ipykernel)",
   "language": "python",
   "name": "python3"
  },
  "language_info": {
   "codemirror_mode": {
    "name": "ipython",
    "version": 3
   },
   "file_extension": ".py",
   "mimetype": "text/x-python",
   "name": "python",
   "nbconvert_exporter": "python",
   "pygments_lexer": "ipython3",
   "version": "3.13.0"
  }
 },
 "nbformat": 4,
 "nbformat_minor": 5
}
